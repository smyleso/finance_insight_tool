{
 "cells": [
  {
   "cell_type": "code",
   "execution_count": 1,
   "id": "33b74681",
   "metadata": {},
   "outputs": [],
   "source": [
    "# Importing all necessary libraries.\n",
    "import pandas as pd\n",
    "import numpy as np\n",
    "import matplotlib.pyplot as plt"
   ]
  },
  {
   "cell_type": "code",
   "execution_count": 2,
   "id": "00e8e7ee",
   "metadata": {},
   "outputs": [],
   "source": [
    "# Using data from Apple's stock.\n",
    "df = pd.read_csv('/Users/mylesosborn/Desktop/SPX/SPX_Pred_Tools/nasdaq_daily.csv')"
   ]
  },
  {
   "cell_type": "code",
   "execution_count": 3,
   "id": "80fa64ee",
   "metadata": {},
   "outputs": [
    {
     "data": {
      "text/html": [
       "<div>\n",
       "<style scoped>\n",
       "    .dataframe tbody tr th:only-of-type {\n",
       "        vertical-align: middle;\n",
       "    }\n",
       "\n",
       "    .dataframe tbody tr th {\n",
       "        vertical-align: top;\n",
       "    }\n",
       "\n",
       "    .dataframe thead th {\n",
       "        text-align: right;\n",
       "    }\n",
       "</style>\n",
       "<table border=\"1\" class=\"dataframe\">\n",
       "  <thead>\n",
       "    <tr style=\"text-align: right;\">\n",
       "      <th></th>\n",
       "      <th>date</th>\n",
       "      <th>wsj_mean_compound</th>\n",
       "      <th>reuters_mean_compound</th>\n",
       "      <th>cnbc_mean_compound</th>\n",
       "      <th>bloomberg_mean_compound</th>\n",
       "      <th>open</th>\n",
       "      <th>high</th>\n",
       "      <th>low</th>\n",
       "      <th>close</th>\n",
       "      <th>range</th>\n",
       "      <th>best option</th>\n",
       "    </tr>\n",
       "  </thead>\n",
       "  <tbody>\n",
       "    <tr>\n",
       "      <th>194</th>\n",
       "      <td>6/8/22</td>\n",
       "      <td>-0.064242</td>\n",
       "      <td>0.016400</td>\n",
       "      <td>-0.013900</td>\n",
       "      <td>0.082317</td>\n",
       "      <td>4147.12</td>\n",
       "      <td>4160.14</td>\n",
       "      <td>4107.20</td>\n",
       "      <td>4115.78</td>\n",
       "      <td>-39.92</td>\n",
       "      <td>1</td>\n",
       "    </tr>\n",
       "    <tr>\n",
       "      <th>195</th>\n",
       "      <td>6/9/22</td>\n",
       "      <td>0.054590</td>\n",
       "      <td>-0.076550</td>\n",
       "      <td>-0.161650</td>\n",
       "      <td>0.348950</td>\n",
       "      <td>4101.65</td>\n",
       "      <td>4119.10</td>\n",
       "      <td>4017.17</td>\n",
       "      <td>4017.81</td>\n",
       "      <td>-84.48</td>\n",
       "      <td>-1</td>\n",
       "    </tr>\n",
       "    <tr>\n",
       "      <th>196</th>\n",
       "      <td>6/10/22</td>\n",
       "      <td>-0.000359</td>\n",
       "      <td>-0.659700</td>\n",
       "      <td>-0.105900</td>\n",
       "      <td>-0.100475</td>\n",
       "      <td>3974.39</td>\n",
       "      <td>3974.39</td>\n",
       "      <td>3900.16</td>\n",
       "      <td>3900.85</td>\n",
       "      <td>-74.23</td>\n",
       "      <td>-1</td>\n",
       "    </tr>\n",
       "    <tr>\n",
       "      <th>197</th>\n",
       "      <td>6/13/22</td>\n",
       "      <td>-0.044863</td>\n",
       "      <td>-0.027750</td>\n",
       "      <td>0.069710</td>\n",
       "      <td>-0.251625</td>\n",
       "      <td>3838.15</td>\n",
       "      <td>3838.15</td>\n",
       "      <td>3734.30</td>\n",
       "      <td>3749.64</td>\n",
       "      <td>-103.85</td>\n",
       "      <td>-1</td>\n",
       "    </tr>\n",
       "    <tr>\n",
       "      <th>198</th>\n",
       "      <td>6/14/22</td>\n",
       "      <td>-0.089453</td>\n",
       "      <td>-0.008133</td>\n",
       "      <td>-0.052187</td>\n",
       "      <td>-0.165100</td>\n",
       "      <td>3763.52</td>\n",
       "      <td>3778.18</td>\n",
       "      <td>3705.68</td>\n",
       "      <td>3735.47</td>\n",
       "      <td>-57.84</td>\n",
       "      <td>-1</td>\n",
       "    </tr>\n",
       "  </tbody>\n",
       "</table>\n",
       "</div>"
      ],
      "text/plain": [
       "        date  wsj_mean_compound  reuters_mean_compound  cnbc_mean_compound  \\\n",
       "194   6/8/22          -0.064242               0.016400           -0.013900   \n",
       "195   6/9/22           0.054590              -0.076550           -0.161650   \n",
       "196  6/10/22          -0.000359              -0.659700           -0.105900   \n",
       "197  6/13/22          -0.044863              -0.027750            0.069710   \n",
       "198  6/14/22          -0.089453              -0.008133           -0.052187   \n",
       "\n",
       "     bloomberg_mean_compound     open     high      low    close   range  \\\n",
       "194                 0.082317  4147.12  4160.14  4107.20  4115.78  -39.92   \n",
       "195                 0.348950  4101.65  4119.10  4017.17  4017.81  -84.48   \n",
       "196                -0.100475  3974.39  3974.39  3900.16  3900.85  -74.23   \n",
       "197                -0.251625  3838.15  3838.15  3734.30  3749.64 -103.85   \n",
       "198                -0.165100  3763.52  3778.18  3705.68  3735.47  -57.84   \n",
       "\n",
       "     best option  \n",
       "194            1  \n",
       "195           -1  \n",
       "196           -1  \n",
       "197           -1  \n",
       "198           -1  "
      ]
     },
     "execution_count": 3,
     "metadata": {},
     "output_type": "execute_result"
    }
   ],
   "source": [
    "df.tail()"
   ]
  },
  {
   "cell_type": "code",
   "execution_count": 4,
   "id": "58899211",
   "metadata": {},
   "outputs": [],
   "source": [
    "#df.describe()"
   ]
  },
  {
   "cell_type": "code",
   "execution_count": 5,
   "id": "f630901e",
   "metadata": {},
   "outputs": [
    {
     "data": {
      "text/plain": [
       "(199, 11)"
      ]
     },
     "execution_count": 5,
     "metadata": {},
     "output_type": "execute_result"
    }
   ],
   "source": [
    "df.shape"
   ]
  },
  {
   "cell_type": "code",
   "execution_count": 6,
   "id": "07d688d5",
   "metadata": {},
   "outputs": [],
   "source": [
    "columns = ['best option', 'wsj_mean_compound','reuters_mean_compound','cnbc_mean_compound','high','low','range','bloomberg_mean_compound','open','close']\n",
    "df2 = pd.DataFrame(df, columns=columns)"
   ]
  },
  {
   "cell_type": "code",
   "execution_count": 7,
   "id": "4ae3c674",
   "metadata": {},
   "outputs": [
    {
     "data": {
      "text/html": [
       "<div>\n",
       "<style scoped>\n",
       "    .dataframe tbody tr th:only-of-type {\n",
       "        vertical-align: middle;\n",
       "    }\n",
       "\n",
       "    .dataframe tbody tr th {\n",
       "        vertical-align: top;\n",
       "    }\n",
       "\n",
       "    .dataframe thead th {\n",
       "        text-align: right;\n",
       "    }\n",
       "</style>\n",
       "<table border=\"1\" class=\"dataframe\">\n",
       "  <thead>\n",
       "    <tr style=\"text-align: right;\">\n",
       "      <th></th>\n",
       "      <th>best option</th>\n",
       "      <th>wsj_mean_compound</th>\n",
       "      <th>reuters_mean_compound</th>\n",
       "      <th>cnbc_mean_compound</th>\n",
       "      <th>high</th>\n",
       "      <th>low</th>\n",
       "      <th>range</th>\n",
       "      <th>bloomberg_mean_compound</th>\n",
       "      <th>open</th>\n",
       "      <th>close</th>\n",
       "    </tr>\n",
       "  </thead>\n",
       "  <tbody>\n",
       "    <tr>\n",
       "      <th>194</th>\n",
       "      <td>1</td>\n",
       "      <td>-0.064242</td>\n",
       "      <td>0.016400</td>\n",
       "      <td>-0.013900</td>\n",
       "      <td>4160.14</td>\n",
       "      <td>4107.20</td>\n",
       "      <td>-39.92</td>\n",
       "      <td>0.082317</td>\n",
       "      <td>4147.12</td>\n",
       "      <td>4115.78</td>\n",
       "    </tr>\n",
       "    <tr>\n",
       "      <th>195</th>\n",
       "      <td>-1</td>\n",
       "      <td>0.054590</td>\n",
       "      <td>-0.076550</td>\n",
       "      <td>-0.161650</td>\n",
       "      <td>4119.10</td>\n",
       "      <td>4017.17</td>\n",
       "      <td>-84.48</td>\n",
       "      <td>0.348950</td>\n",
       "      <td>4101.65</td>\n",
       "      <td>4017.81</td>\n",
       "    </tr>\n",
       "    <tr>\n",
       "      <th>196</th>\n",
       "      <td>-1</td>\n",
       "      <td>-0.000359</td>\n",
       "      <td>-0.659700</td>\n",
       "      <td>-0.105900</td>\n",
       "      <td>3974.39</td>\n",
       "      <td>3900.16</td>\n",
       "      <td>-74.23</td>\n",
       "      <td>-0.100475</td>\n",
       "      <td>3974.39</td>\n",
       "      <td>3900.85</td>\n",
       "    </tr>\n",
       "    <tr>\n",
       "      <th>197</th>\n",
       "      <td>-1</td>\n",
       "      <td>-0.044863</td>\n",
       "      <td>-0.027750</td>\n",
       "      <td>0.069710</td>\n",
       "      <td>3838.15</td>\n",
       "      <td>3734.30</td>\n",
       "      <td>-103.85</td>\n",
       "      <td>-0.251625</td>\n",
       "      <td>3838.15</td>\n",
       "      <td>3749.64</td>\n",
       "    </tr>\n",
       "    <tr>\n",
       "      <th>198</th>\n",
       "      <td>-1</td>\n",
       "      <td>-0.089453</td>\n",
       "      <td>-0.008133</td>\n",
       "      <td>-0.052187</td>\n",
       "      <td>3778.18</td>\n",
       "      <td>3705.68</td>\n",
       "      <td>-57.84</td>\n",
       "      <td>-0.165100</td>\n",
       "      <td>3763.52</td>\n",
       "      <td>3735.47</td>\n",
       "    </tr>\n",
       "  </tbody>\n",
       "</table>\n",
       "</div>"
      ],
      "text/plain": [
       "     best option  wsj_mean_compound  reuters_mean_compound  \\\n",
       "194            1          -0.064242               0.016400   \n",
       "195           -1           0.054590              -0.076550   \n",
       "196           -1          -0.000359              -0.659700   \n",
       "197           -1          -0.044863              -0.027750   \n",
       "198           -1          -0.089453              -0.008133   \n",
       "\n",
       "     cnbc_mean_compound     high      low   range  bloomberg_mean_compound  \\\n",
       "194           -0.013900  4160.14  4107.20  -39.92                 0.082317   \n",
       "195           -0.161650  4119.10  4017.17  -84.48                 0.348950   \n",
       "196           -0.105900  3974.39  3900.16  -74.23                -0.100475   \n",
       "197            0.069710  3838.15  3734.30 -103.85                -0.251625   \n",
       "198           -0.052187  3778.18  3705.68  -57.84                -0.165100   \n",
       "\n",
       "        open    close  \n",
       "194  4147.12  4115.78  \n",
       "195  4101.65  4017.81  \n",
       "196  3974.39  3900.85  \n",
       "197  3838.15  3749.64  \n",
       "198  3763.52  3735.47  "
      ]
     },
     "execution_count": 7,
     "metadata": {},
     "output_type": "execute_result"
    }
   ],
   "source": [
    "df2.tail()"
   ]
  },
  {
   "cell_type": "code",
   "execution_count": 8,
   "id": "28522192",
   "metadata": {},
   "outputs": [],
   "source": [
    "df2 = pd.DataFrame(df2)     "
   ]
  },
  {
   "cell_type": "code",
   "execution_count": 9,
   "id": "d88d1d71",
   "metadata": {},
   "outputs": [],
   "source": [
    "# Prediction 100 days into the future.\n",
    "future_days = 3\n",
    "df2['Prediction'] = df2['best option'].shift(-future_days)"
   ]
  },
  {
   "cell_type": "code",
   "execution_count": 10,
   "id": "8edd2ccc",
   "metadata": {},
   "outputs": [],
   "source": [
    "#df2.tail()"
   ]
  },
  {
   "cell_type": "code",
   "execution_count": 11,
   "id": "2d09f4b1",
   "metadata": {},
   "outputs": [
    {
     "name": "stderr",
     "output_type": "stream",
     "text": [
      "/Users/mylesosborn/opt/anaconda3/lib/python3.7/site-packages/ipykernel_launcher.py:1: FutureWarning: In a future version of pandas all arguments of DataFrame.drop except for the argument 'labels' will be keyword-only\n",
      "  \"\"\"Entry point for launching an IPython kernel.\n"
     ]
    }
   ],
   "source": [
    "X = np.array(df2.drop(['Prediction'], 1))[:-future_days]\n",
    "#print(X)"
   ]
  },
  {
   "cell_type": "code",
   "execution_count": 12,
   "id": "9f37b0fb",
   "metadata": {},
   "outputs": [],
   "source": [
    "y = np.array(df2['Prediction'])[:-future_days]\n",
    "#print(y)"
   ]
  },
  {
   "cell_type": "markdown",
   "id": "88ce3551",
   "metadata": {},
   "source": [
    "# Random Forest"
   ]
  },
  {
   "cell_type": "code",
   "execution_count": 13,
   "id": "819399ae",
   "metadata": {},
   "outputs": [
    {
     "data": {
      "text/plain": [
       "array([ 1., -1.,  1., -1.,  1.,  1.,  1., -1., -1., -1., -1.,  1.,  1.,\n",
       "        1., -1.,  1., -1.,  1.,  1.,  1., -1., -1., -1., -1., -1., -1.,\n",
       "       -1., -1., -1.,  1.,  1., -1.,  1.,  1., -1.,  1.,  1.,  1., -1.,\n",
       "       -1.])"
      ]
     },
     "execution_count": 13,
     "metadata": {},
     "output_type": "execute_result"
    }
   ],
   "source": [
    "from sklearn.model_selection import train_test_split\n",
    "from sklearn.metrics import accuracy_score\n",
    "from sklearn.ensemble import RandomForestClassifier\n",
    "from sklearn.datasets import make_classification\n",
    "\n",
    "x_train, x_test, y_train, y_test = train_test_split(X, y, test_size = 0.2)\n",
    "y_test"
   ]
  },
  {
   "cell_type": "code",
   "execution_count": 14,
   "id": "b8cb2c43",
   "metadata": {},
   "outputs": [],
   "source": [
    "# Implementing Linear and Decision Tree Regression Algorithms.\n",
    "rf = RandomForestClassifier(n_estimators=235, criterion=\"entropy\").fit(x_train, y_train)"
   ]
  },
  {
   "cell_type": "code",
   "execution_count": 15,
   "id": "5144d6a4",
   "metadata": {},
   "outputs": [
    {
     "name": "stdout",
     "output_type": "stream",
     "text": [
      "Random Forest prediction : [-1. -1. -1.  1. -1. -1.  1.  1. -1. -1. -1. -1. -1. -1.  1. -1.  1. -1.\n",
      "  1. -1. -1.  1.  1.  1. -1. -1. -1. -1.  1. -1.  1.  1. -1. -1.  1. -1.\n",
      "  1. -1. -1. -1.]\n"
     ]
    }
   ],
   "source": [
    "rf_prediction = rf.predict(x_test)\n",
    "print('Random Forest prediction :',rf_prediction)"
   ]
  },
  {
   "cell_type": "code",
   "execution_count": 16,
   "id": "cc4fe5d6",
   "metadata": {},
   "outputs": [],
   "source": [
    "#predictions = rf_prediction[-future_days:]\n",
    "#predictions"
   ]
  },
  {
   "cell_type": "code",
   "execution_count": 17,
   "id": "558dbb76",
   "metadata": {},
   "outputs": [
    {
     "name": "stderr",
     "output_type": "stream",
     "text": [
      "/Users/mylesosborn/opt/anaconda3/lib/python3.7/site-packages/ipykernel_launcher.py:1: FutureWarning: In a future version of pandas all arguments of DataFrame.drop except for the argument 'labels' will be keyword-only\n",
      "  \"\"\"Entry point for launching an IPython kernel.\n"
     ]
    }
   ],
   "source": [
    "x_future = df2.drop(['Prediction'], 1)[:-future_days]\n",
    "x_future = x_future.tail(future_days)\n",
    "x_future = np.array(x_future)"
   ]
  },
  {
   "cell_type": "code",
   "execution_count": 18,
   "id": "e01d7d20",
   "metadata": {},
   "outputs": [
    {
     "name": "stdout",
     "output_type": "stream",
     "text": [
      "Random Forest prediction : [-1. -1. -1.]\n"
     ]
    }
   ],
   "source": [
    "rf_prediction2 = rf.predict(x_future)\n",
    "print('Random Forest prediction :',rf_prediction2)"
   ]
  },
  {
   "cell_type": "code",
   "execution_count": 19,
   "id": "6777403c",
   "metadata": {},
   "outputs": [
    {
     "data": {
      "text/plain": [
       "0.375"
      ]
     },
     "execution_count": 19,
     "metadata": {},
     "output_type": "execute_result"
    }
   ],
   "source": [
    "ac = accuracy_score(rf_prediction, y_test)\n",
    "ac"
   ]
  },
  {
   "cell_type": "code",
   "execution_count": 20,
   "id": "36bf5a4d",
   "metadata": {},
   "outputs": [],
   "source": [
    "#import pickle\n",
    "#filename = 'finalized_model_rf_nasdaq.sav'\n",
    "#pickle.dump(rf, open(filename, 'wb'))"
   ]
  },
  {
   "cell_type": "code",
   "execution_count": null,
   "id": "35051f42",
   "metadata": {},
   "outputs": [],
   "source": []
  },
  {
   "cell_type": "code",
   "execution_count": null,
   "id": "3a53a3f2",
   "metadata": {},
   "outputs": [],
   "source": []
  },
  {
   "cell_type": "code",
   "execution_count": null,
   "id": "621f27fb",
   "metadata": {},
   "outputs": [],
   "source": []
  },
  {
   "cell_type": "code",
   "execution_count": null,
   "id": "28406f4a",
   "metadata": {},
   "outputs": [],
   "source": []
  },
  {
   "cell_type": "code",
   "execution_count": null,
   "id": "0642c83b",
   "metadata": {},
   "outputs": [],
   "source": []
  },
  {
   "cell_type": "code",
   "execution_count": null,
   "id": "18771478",
   "metadata": {},
   "outputs": [],
   "source": []
  },
  {
   "cell_type": "code",
   "execution_count": null,
   "id": "8179769d",
   "metadata": {},
   "outputs": [],
   "source": []
  },
  {
   "cell_type": "code",
   "execution_count": null,
   "id": "2359f593",
   "metadata": {},
   "outputs": [],
   "source": []
  }
 ],
 "metadata": {
  "kernelspec": {
   "display_name": "Python 3 (ipykernel)",
   "language": "python",
   "name": "python3"
  },
  "language_info": {
   "codemirror_mode": {
    "name": "ipython",
    "version": 3
   },
   "file_extension": ".py",
   "mimetype": "text/x-python",
   "name": "python",
   "nbconvert_exporter": "python",
   "pygments_lexer": "ipython3",
   "version": "3.7.11"
  }
 },
 "nbformat": 4,
 "nbformat_minor": 5
}

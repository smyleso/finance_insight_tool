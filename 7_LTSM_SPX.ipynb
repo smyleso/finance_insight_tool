{
 "cells": [
  {
   "cell_type": "code",
   "execution_count": 1711,
   "id": "bb7008e2",
   "metadata": {},
   "outputs": [],
   "source": [
    "import json\n",
    "import time\n",
    "import math\n",
    "import matplotlib.pyplot as plt\n",
    "import numpy as np\n",
    "import pandas as pd\n",
    "import datetime as dt\n",
    "from numpy import newaxis\n",
    "from keras.layers import Dense, Activation, Dropout, LSTM\n",
    "from keras.models import Sequential, load_model\n",
    "from keras.callbacks import EarlyStopping, ModelCheckpoint\n",
    "from sklearn.linear_model import LinearRegression\n",
    "from sklearn.ensemble import RandomForestRegressor\n",
    "from sklearn.linear_model import Ridge\n",
    "\n",
    "from math import pi,sqrt,exp,pow,log\n",
    "from numpy.linalg import det, inv\n",
    "from abc import ABCMeta, abstractmethod\n",
    "from sklearn import cluster\n",
    "\n",
    "import statsmodels.api as sm \n",
    "import scipy.stats as scs\n",
    "import scipy.optimize as sco\n",
    "import scipy.interpolate as sci\n",
    "from scipy import stats\n",
    "\n",
    "\n",
    "df = pd.read_csv(\"/file_path.csv\")\n",
    "#df = pd.read_csv(\"/file_path.csv\")"
   ]
  },
  {
   "cell_type": "code",
   "execution_count": 1712,
   "id": "8ed3bc04",
   "metadata": {},
   "outputs": [
    {
     "data": {
      "text/html": [
       "<div>\n",
       "<style scoped>\n",
       "    .dataframe tbody tr th:only-of-type {\n",
       "        vertical-align: middle;\n",
       "    }\n",
       "\n",
       "    .dataframe tbody tr th {\n",
       "        vertical-align: top;\n",
       "    }\n",
       "\n",
       "    .dataframe thead th {\n",
       "        text-align: right;\n",
       "    }\n",
       "</style>\n",
       "<table border=\"1\" class=\"dataframe\">\n",
       "  <thead>\n",
       "    <tr style=\"text-align: right;\">\n",
       "      <th></th>\n",
       "      <th>date</th>\n",
       "      <th>wsj_mean_compound</th>\n",
       "      <th>reuters_mean_compound</th>\n",
       "      <th>cnbc_mean_compound</th>\n",
       "      <th>bloomberg_mean_compound</th>\n",
       "      <th>adj close</th>\n",
       "    </tr>\n",
       "  </thead>\n",
       "  <tbody>\n",
       "    <tr>\n",
       "      <th>201</th>\n",
       "      <td>9/1/22</td>\n",
       "      <td>-0.000770</td>\n",
       "      <td>-0.095450</td>\n",
       "      <td>-0.310500</td>\n",
       "      <td>-0.012102</td>\n",
       "      <td>-1</td>\n",
       "    </tr>\n",
       "    <tr>\n",
       "      <th>202</th>\n",
       "      <td>9/2/22</td>\n",
       "      <td>0.000645</td>\n",
       "      <td>0.415050</td>\n",
       "      <td>-0.183511</td>\n",
       "      <td>-0.228700</td>\n",
       "      <td>-1</td>\n",
       "    </tr>\n",
       "    <tr>\n",
       "      <th>203</th>\n",
       "      <td>9/6/22</td>\n",
       "      <td>0.340000</td>\n",
       "      <td>-0.044475</td>\n",
       "      <td>0.142687</td>\n",
       "      <td>-0.295300</td>\n",
       "      <td>1</td>\n",
       "    </tr>\n",
       "    <tr>\n",
       "      <th>204</th>\n",
       "      <td>9/7/22</td>\n",
       "      <td>0.000711</td>\n",
       "      <td>0.510600</td>\n",
       "      <td>-0.515533</td>\n",
       "      <td>0.125000</td>\n",
       "      <td>1</td>\n",
       "    </tr>\n",
       "    <tr>\n",
       "      <th>205</th>\n",
       "      <td>9/8/22</td>\n",
       "      <td>-0.361200</td>\n",
       "      <td>-0.000479</td>\n",
       "      <td>-0.159100</td>\n",
       "      <td>0.518000</td>\n",
       "      <td>1</td>\n",
       "    </tr>\n",
       "  </tbody>\n",
       "</table>\n",
       "</div>"
      ],
      "text/plain": [
       "       date  wsj_mean_compound  reuters_mean_compound  cnbc_mean_compound  \\\n",
       "201  9/1/22          -0.000770              -0.095450           -0.310500   \n",
       "202  9/2/22           0.000645               0.415050           -0.183511   \n",
       "203  9/6/22           0.340000              -0.044475            0.142687   \n",
       "204  9/7/22           0.000711               0.510600           -0.515533   \n",
       "205  9/8/22          -0.361200              -0.000479           -0.159100   \n",
       "\n",
       "     bloomberg_mean_compound  adj close  \n",
       "201                -0.012102         -1  \n",
       "202                -0.228700         -1  \n",
       "203                -0.295300          1  \n",
       "204                 0.125000          1  \n",
       "205                 0.518000          1  "
      ]
     },
     "execution_count": 1712,
     "metadata": {},
     "output_type": "execute_result"
    }
   ],
   "source": [
    "df.tail()"
   ]
  },
  {
   "cell_type": "code",
   "execution_count": 1713,
   "id": "0ba6b13e",
   "metadata": {},
   "outputs": [],
   "source": [
    "wsj_var=np.var(df.wsj_mean_compound)\n",
    "cnbc_var=np.var(df.cnbc_mean_compound)\n",
    "fortune_var=np.var(df.bloomberg_mean_compound)\n",
    "reuters_var=np.var(df.reuters_mean_compound)"
   ]
  },
  {
   "cell_type": "code",
   "execution_count": 1714,
   "id": "63e92a30",
   "metadata": {},
   "outputs": [],
   "source": [
    "mu=0\n",
    "noise=0.1"
   ]
  },
  {
   "cell_type": "code",
   "execution_count": 1715,
   "id": "705df121",
   "metadata": {},
   "outputs": [],
   "source": [
    "sigma_wsj=noise*wsj_var\n",
    "sigma_cnbc=noise*cnbc_var\n",
    "sigma_fortune=noise*fortune_var\n",
    "sigma_reuters=noise*reuters_var"
   ]
  },
  {
   "cell_type": "code",
   "execution_count": 1716,
   "id": "a53b572f",
   "metadata": {},
   "outputs": [],
   "source": [
    "n=df.shape[0]"
   ]
  },
  {
   "cell_type": "code",
   "execution_count": 1717,
   "id": "ceda41a7",
   "metadata": {},
   "outputs": [],
   "source": [
    "df_noise=pd.DataFrame()\n",
    "\n",
    "df_noise['wsj_noise']=df['wsj_mean_compound']\n",
    "df_noise['cnbc_noise']=df['cnbc_mean_compound']\n",
    "df_noise['bloomberg_noise']=df['bloomberg_mean_compound']\n",
    "df_noise['reuters_noise']=df['reuters_mean_compound']"
   ]
  },
  {
   "cell_type": "code",
   "execution_count": 1718,
   "id": "fa37d35a",
   "metadata": {},
   "outputs": [],
   "source": [
    "for i in range(0,n):\n",
    "    df_noise['wsj_noise'][i]+=np.random.normal(mu,sigma_wsj)\n",
    "    df_noise['cnbc_noise'][i]+=np.random.normal(mu,sigma_cnbc)\n",
    "    df_noise['bloomberg_noise'][i]+=np.random.normal(mu,sigma_fortune)\n",
    "    df_noise['reuters_noise'][i]+=np.random.normal(mu,sigma_reuters)"
   ]
  },
  {
   "cell_type": "code",
   "execution_count": 1719,
   "id": "8fdeb667",
   "metadata": {},
   "outputs": [],
   "source": [
    "dfn=df_noise\n",
    "\n",
    "df_1n=pd.DataFrame()\n",
    "df_1n['wsj']=dfn['wsj_noise']\n",
    "df_1n['cnbc']=df['cnbc_mean_compound']\n",
    "df_1n['bloomberg']=df['bloomberg_mean_compound']\n",
    "df_1n['reuters']=df['reuters_mean_compound']\n",
    "df_1n['price']=df['adj close']\n",
    "\n",
    "df_2n=pd.DataFrame()\n",
    "df_2n['wsj']=df['wsj_mean_compound']\n",
    "df_2n['cnbc']=dfn['cnbc_noise']\n",
    "df_2n['bloomberg']=df['bloomberg_mean_compound']\n",
    "df_2n['reuters']=df['reuters_mean_compound']\n",
    "df_2n['price']=df['adj close']\n",
    "\n",
    "df_3n=pd.DataFrame()\n",
    "df_3n['wsj']=df['wsj_mean_compound']\n",
    "df_3n['cnbc']=df['cnbc_mean_compound']\n",
    "df_3n['bloomberg']=dfn['bloomberg_noise']\n",
    "df_3n['reuters']=df['reuters_mean_compound']\n",
    "df_3n['price']=df['adj close']\n",
    "\n",
    "df_4n=pd.DataFrame()\n",
    "df_4n['wsj']=df['wsj_mean_compound']\n",
    "df_4n['cnbc']=df['cnbc_mean_compound']\n",
    "df_4n['bloomberg']=df['bloomberg_mean_compound']\n",
    "df_4n['reuters']=dfn['reuters_noise']\n",
    "df_4n['price']=df['adj close']"
   ]
  },
  {
   "cell_type": "code",
   "execution_count": 1720,
   "id": "aaece8b8",
   "metadata": {},
   "outputs": [],
   "source": [
    "df1=df_1n\n",
    "df2=df_2n\n",
    "df3=df_3n\n",
    "df4=df_4n"
   ]
  },
  {
   "cell_type": "code",
   "execution_count": 1721,
   "id": "50a59ac4",
   "metadata": {},
   "outputs": [],
   "source": [
    "split = (0.85)\n",
    "sequence_length=30;\n",
    "normalise= True\n",
    "batch_size=100;\n",
    "input_dim=5\n",
    "input_timesteps=29\n",
    "neurons=50\n",
    "epochs=30\n",
    "prediction_len=1\n",
    "dense_output=1\n",
    "drop_out=0"
   ]
  },
  {
   "cell_type": "code",
   "execution_count": 1722,
   "id": "f5dd6ea5",
   "metadata": {},
   "outputs": [],
   "source": [
    "i_split = int(len(df1) * split)\n",
    "\n",
    "cols = ['price','wsj','cnbc','bloomberg','reuters']\n",
    "data_train_1 = df1.get(cols).values[:i_split]\n",
    "data_train_2 = df2.get(cols).values[:i_split]\n",
    "data_train_3 = df3.get(cols).values[:i_split]\n",
    "data_train_4 = df4.get(cols).values[:i_split]\n",
    "\n",
    "len_train  = len(data_train_1)\n",
    "len_train_windows = None"
   ]
  },
  {
   "cell_type": "code",
   "execution_count": 1723,
   "id": "c4cc5a7c",
   "metadata": {},
   "outputs": [],
   "source": [
    "data_windows = []\n",
    "for i in range(len_train - sequence_length):\n",
    "    data_windows.append(data_train_1[i:i+sequence_length])\n",
    "data_windows = np.array(data_windows).astype(float)\n",
    "  \n",
    "window_data=data_windows\n",
    "win_num=window_data.shape[0]\n",
    "col_num=window_data.shape[2]\n",
    "\n",
    "normalised_data = []\n",
    "record_min=[]\n",
    "record_max=[]\n",
    "\n",
    "for win_i in range(0,win_num):\n",
    "    normalised_window = []\n",
    "    for col_i in range(0,1):#col_num):\n",
    "        temp_col=window_data[win_i,:,col_i]\n",
    "        temp_min=min(temp_col)\n",
    "        if col_i==0:\n",
    "            record_min.append(temp_min)#record min\n",
    "        temp_col=temp_col-temp_min\n",
    "        temp_max=max(temp_col)\n",
    "        if col_i==0:\n",
    "            record_max.append(temp_max)#record max\n",
    "        temp_col=temp_col/temp_max\n",
    "        normalised_window.append(temp_col)\n",
    "    for col_i in range(1,col_num):\n",
    "        temp_col=window_data[win_i,:,col_i]\n",
    "        normalised_window.append(temp_col)\n",
    "    normalised_window = np.array(normalised_window).T\n",
    "    normalised_data.append(normalised_window)\n",
    "normalised_data=np.array(normalised_data)\n"
   ]
  },
  {
   "cell_type": "code",
   "execution_count": 1724,
   "id": "ef695c90",
   "metadata": {},
   "outputs": [
    {
     "name": "stdout",
     "output_type": "stream",
     "text": [
      "x_train1.shape (145, 29, 5)\n",
      "y_train1.shape (145, 1)\n"
     ]
    }
   ],
   "source": [
    "data_windows=normalised_data\n",
    "x_train1 = data_windows[:, :-1]\n",
    "y_train1 = data_windows[:, -1,[0]]\n",
    "print('x_train1.shape',x_train1.shape)\n",
    "print('y_train1.shape',y_train1.shape)"
   ]
  },
  {
   "cell_type": "code",
   "execution_count": 1725,
   "id": "18ecaead",
   "metadata": {},
   "outputs": [
    {
     "name": "stdout",
     "output_type": "stream",
     "text": [
      "x_train2.shape (145, 29, 5)\n",
      "y_train2.shape (145, 1)\n"
     ]
    }
   ],
   "source": [
    "#get_train_data \n",
    "data_windows = []\n",
    "for i in range(len_train - sequence_length):\n",
    "    data_windows.append(data_train_2[i:i+sequence_length])\n",
    "data_windows = np.array(data_windows).astype(float)\n",
    "  \n",
    "window_data=data_windows\n",
    "win_num=window_data.shape[0]\n",
    "col_num=window_data.shape[2]\n",
    "\n",
    "normalised_data = []\n",
    "record_min=[]\n",
    "record_max=[]\n",
    "\n",
    "for win_i in range(0,win_num):\n",
    "    normalised_window = []\n",
    "    for col_i in range(0,1):#col_num):\n",
    "        temp_col=window_data[win_i,:,col_i]\n",
    "        temp_min=min(temp_col)\n",
    "        if col_i==0:\n",
    "            record_min.append(temp_min)#record min\n",
    "        temp_col=temp_col-temp_min\n",
    "        temp_max=max(temp_col)\n",
    "        if col_i==0:\n",
    "            record_max.append(temp_max)#record max\n",
    "        temp_col=temp_col/temp_max\n",
    "        normalised_window.append(temp_col)\n",
    "    for col_i in range(1,col_num):\n",
    "        temp_col=window_data[win_i,:,col_i]\n",
    "        normalised_window.append(temp_col)\n",
    "    normalised_window = np.array(normalised_window).T\n",
    "    normalised_data.append(normalised_window)\n",
    "normalised_data=np.array(normalised_data)\n",
    "\n",
    "# normalised_data=window_data\n",
    "data_windows=normalised_data\n",
    "x_train2 = data_windows[:, :-1]\n",
    "y_train2 = data_windows[:, -1,[0]]\n",
    "print('x_train2.shape',x_train2.shape)\n",
    "print('y_train2.shape',y_train2.shape)"
   ]
  },
  {
   "cell_type": "code",
   "execution_count": 1726,
   "id": "56bd3450",
   "metadata": {},
   "outputs": [
    {
     "name": "stdout",
     "output_type": "stream",
     "text": [
      "x_train3.shape (145, 29, 5)\n",
      "y_train3.shape (145, 1)\n"
     ]
    }
   ],
   "source": [
    "#get_train_data \n",
    "data_windows = []\n",
    "for i in range(len_train - sequence_length):\n",
    "    data_windows.append(data_train_3[i:i+sequence_length])\n",
    "data_windows = np.array(data_windows).astype(float)\n",
    "  \n",
    "window_data=data_windows\n",
    "win_num=window_data.shape[0]\n",
    "col_num=window_data.shape[2]\n",
    "\n",
    "normalised_data = []\n",
    "record_min=[]\n",
    "record_max=[]\n",
    "\n",
    "for win_i in range(0,win_num):\n",
    "    normalised_window = []\n",
    "    for col_i in range(0,1):#col_num):\n",
    "        temp_col=window_data[win_i,:,col_i]\n",
    "        temp_min=min(temp_col)\n",
    "        if col_i==0:\n",
    "            record_min.append(temp_min)#record min\n",
    "        temp_col=temp_col-temp_min\n",
    "        temp_max=max(temp_col)\n",
    "        if col_i==0:\n",
    "            record_max.append(temp_max)#record max\n",
    "        temp_col=temp_col/temp_max\n",
    "        normalised_window.append(temp_col)\n",
    "    for col_i in range(1,col_num):\n",
    "        temp_col=window_data[win_i,:,col_i]\n",
    "        normalised_window.append(temp_col)\n",
    "    normalised_window = np.array(normalised_window).T\n",
    "    normalised_data.append(normalised_window)\n",
    "normalised_data=np.array(normalised_data)\n",
    "\n",
    "# normalised_data=window_data\n",
    "data_windows=normalised_data\n",
    "x_train3 = data_windows[:, :-1]\n",
    "y_train3 = data_windows[:, -1,[0]]\n",
    "print('x_train3.shape',x_train3.shape)\n",
    "print('y_train3.shape',y_train3.shape)"
   ]
  },
  {
   "cell_type": "code",
   "execution_count": 1727,
   "id": "3e03f9ff",
   "metadata": {},
   "outputs": [
    {
     "name": "stdout",
     "output_type": "stream",
     "text": [
      "x_train4.shape (145, 29, 5)\n",
      "y_train4.shape (145, 1)\n"
     ]
    }
   ],
   "source": [
    "#get_train_data \n",
    "\n",
    "data_windows = []\n",
    "for i in range(len_train - sequence_length):\n",
    "    data_windows.append(data_train_4[i:i+sequence_length])\n",
    "data_windows = np.array(data_windows).astype(float)\n",
    "  \n",
    "window_data=data_windows\n",
    "win_num=window_data.shape[0]\n",
    "col_num=window_data.shape[2]\n",
    "\n",
    "normalised_data = []\n",
    "record_min=[]\n",
    "record_max=[]\n",
    "\n",
    "for win_i in range(0,win_num):\n",
    "    normalised_window = []\n",
    "    for col_i in range(0,1):#col_num):\n",
    "        temp_col=window_data[win_i,:,col_i]\n",
    "        temp_min=min(temp_col)\n",
    "        if col_i==0:\n",
    "            record_min.append(temp_min)#record min\n",
    "        temp_col=temp_col-temp_min\n",
    "        temp_max=max(temp_col)\n",
    "        if col_i==0:\n",
    "            record_max.append(temp_max)#record max\n",
    "        temp_col=temp_col/temp_max\n",
    "        normalised_window.append(temp_col)\n",
    "    for col_i in range(1,col_num):\n",
    "        temp_col=window_data[win_i,:,col_i]\n",
    "        normalised_window.append(temp_col)\n",
    "    normalised_window = np.array(normalised_window).T\n",
    "    normalised_data.append(normalised_window)\n",
    "normalised_data=np.array(normalised_data)\n",
    "\n",
    "# normalised_data=window_data\n",
    "data_windows=normalised_data\n",
    "x_train4 = data_windows[:, :-1]\n",
    "y_train4 = data_windows[:, -1,[0]]\n",
    "print('x_train4.shape',x_train4.shape)\n",
    "print('y_train4.shape',y_train4.shape)\n"
   ]
  },
  {
   "cell_type": "code",
   "execution_count": 1728,
   "id": "634389a1",
   "metadata": {},
   "outputs": [
    {
     "data": {
      "text/plain": [
       "numpy.ndarray"
      ]
     },
     "execution_count": 1728,
     "metadata": {},
     "output_type": "execute_result"
    }
   ],
   "source": [
    "##concat train window\n",
    "type(x_train4)"
   ]
  },
  {
   "cell_type": "code",
   "execution_count": 1729,
   "id": "d4baa0d5",
   "metadata": {
    "scrolled": true
   },
   "outputs": [
    {
     "name": "stdout",
     "output_type": "stream",
     "text": [
      "(580, 29, 5)\n",
      "(580, 1)\n"
     ]
    }
   ],
   "source": [
    "x_train_t=np.concatenate((x_train1,x_train2,x_train3,x_train4),axis=0)\n",
    "print(x_train_t.shape)\n",
    "x_train=x_train_t\n",
    "\n",
    "y_train_t=np.concatenate((y_train1,y_train2,y_train3,y_train4),axis=0)\n",
    "print(y_train_t.shape)\n",
    "y_train=y_train_t"
   ]
  },
  {
   "cell_type": "code",
   "execution_count": 1730,
   "id": "e581bae5",
   "metadata": {},
   "outputs": [
    {
     "name": "stdout",
     "output_type": "stream",
     "text": [
      "data_test.shape (31, 5)\n"
     ]
    }
   ],
   "source": [
    "dataframe = pd.read_csv(\"/file_path.csv\")\n",
    "#dataframe = pd.read_csv(\"/file_path.csv\")\n",
    "dataframe.columns =['date','wsj','cnbc','bloomberg','reuters','price']\n",
    "cols = ['price','wsj','cnbc','bloomberg','reuters']\n",
    "len_dataframe=dataframe.shape[0]\n",
    "\n",
    "i_split = int(len(dataframe) * split)\n",
    "data_test  = dataframe.get(cols).values[i_split:]\n",
    "\n",
    "len_test   = len(data_test)\n",
    "len_train_windows = None\n",
    "\n",
    "print('data_test.shape',data_test.shape)\n",
    "\n"
   ]
  },
  {
   "cell_type": "code",
   "execution_count": 1731,
   "id": "8a08e8f0",
   "metadata": {},
   "outputs": [
    {
     "name": "stdout",
     "output_type": "stream",
     "text": [
      "y_test_ori.shape (1, 1)\n"
     ]
    }
   ],
   "source": [
    "data_windows = []\n",
    "for i in range(len_test - sequence_length):\n",
    "    data_windows.append(data_test[i:i+sequence_length])\n",
    "\n",
    "data_windows = np.array(data_windows).astype(float)\n",
    "\n",
    "y_test_ori = data_windows[:, -1, [0]]\n",
    "print('y_test_ori.shape',y_test_ori.shape)"
   ]
  },
  {
   "cell_type": "code",
   "execution_count": 1732,
   "id": "b7e57785",
   "metadata": {},
   "outputs": [
    {
     "data": {
      "text/plain": [
       "array([[1.]])"
      ]
     },
     "execution_count": 1732,
     "metadata": {},
     "output_type": "execute_result"
    }
   ],
   "source": [
    "y_test_ori"
   ]
  },
  {
   "cell_type": "code",
   "execution_count": 1733,
   "id": "086dc482",
   "metadata": {},
   "outputs": [
    {
     "name": "stdout",
     "output_type": "stream",
     "text": [
      "x_test.shape (1, 29, 5)\n",
      "y_test.shape (1, 1)\n"
     ]
    }
   ],
   "source": [
    "window_data=data_windows\n",
    "win_num=window_data.shape[0]\n",
    "col_num=window_data.shape[2]\n",
    "normalised_data = []\n",
    "record_min=[]\n",
    "record_max=[]\n",
    "\n",
    "#normalize\n",
    "for win_i in range(0,win_num):\n",
    "    normalised_window = []\n",
    "    for col_i in range(0,1):#col_num):\n",
    "        temp_col=window_data[win_i,:,col_i]\n",
    "        temp_min=min(temp_col)\n",
    "        if col_i==0:\n",
    "            record_min.append(temp_min)#record min\n",
    "        temp_col=temp_col-temp_min\n",
    "        temp_max=max(temp_col)\n",
    "        if col_i==0:\n",
    "            record_max.append(temp_max)#record max\n",
    "        temp_col=temp_col/temp_max\n",
    "        normalised_window.append(temp_col)\n",
    "    for col_i in range(1,col_num):\n",
    "        temp_col=window_data[win_i,:,col_i]\n",
    "        normalised_window.append(temp_col)\n",
    "    normalised_window = np.array(normalised_window).T\n",
    "    normalised_data.append(normalised_window)\n",
    "normalised_data=np.array(normalised_data)\n",
    "\n",
    "# normalised_data=window_data\n",
    "data_windows=normalised_data#get_test_data\n",
    "x_test = data_windows[:, :-1]\n",
    "y_test = data_windows[:, -1, [0]]\n",
    "print('x_test.shape',x_test.shape)\n",
    "print('y_test.shape',y_test.shape)"
   ]
  },
  {
   "cell_type": "code",
   "execution_count": 1734,
   "id": "61d3c384",
   "metadata": {},
   "outputs": [],
   "source": [
    "# LSTM MODEL\n",
    "#model = Sequential()\n",
    "#model.add(LSTM(neurons, input_shape=(input_timesteps, input_dim), return_sequences = True))\n",
    "#model.add(Dropout(drop_out))\n",
    "#model.add(LSTM(neurons,return_sequences = True))\n",
    "#model.add(LSTM(neurons,return_sequences = False))\n",
    "#model.add(Dropout(drop_out))\n",
    "#model.add(Dense(dense_output, activation='linear'))\n",
    "# Compile model\n",
    "#model.compile(loss='mean_squared_error',optimizer='adam')\n",
    "# Fit the model\n",
    "#model.fit(x_train,y_train,epochs=epochs,batch_size=batch_size)"
   ]
  },
  {
   "cell_type": "code",
   "execution_count": 1735,
   "id": "fa9ee43f",
   "metadata": {},
   "outputs": [],
   "source": [
    "import pickle\n",
    "filename = 'finalized_model_ltsm.sav'\n",
    "model = pickle.load(open(filename, 'rb'))"
   ]
  },
  {
   "cell_type": "code",
   "execution_count": 1736,
   "id": "7a697cc5",
   "metadata": {},
   "outputs": [
    {
     "name": "stdout",
     "output_type": "stream",
     "text": [
      "[[1.]]\n",
      "[0.4085725]\n"
     ]
    }
   ],
   "source": [
    "#multi sequence predict\n",
    "data=x_test\n",
    "prediction_seqs = []\n",
    "window_size=sequence_length\n",
    "pre_win_num=int(len(data)/prediction_len)\n",
    "\n",
    "for i in range(0,pre_win_num):\n",
    "    curr_frame = data[i*prediction_len]\n",
    "    predicted = []\n",
    "    for j in range(0,prediction_len):\n",
    "        temp=model.predict(curr_frame[newaxis,:,:])[0]\n",
    "        predicted.append(temp)\n",
    "        curr_frame = curr_frame[1:]\n",
    "        curr_frame = np.insert(curr_frame, [window_size-2], predicted[-1], axis=0)\n",
    "    prediction_seqs.append(predicted)\n",
    "\n",
    "print(y_test)\n",
    "print(temp)\n",
    "#print(curr_frame)"
   ]
  },
  {
   "cell_type": "code",
   "execution_count": 1737,
   "id": "7bba01f7",
   "metadata": {},
   "outputs": [
    {
     "name": "stdout",
     "output_type": "stream",
     "text": [
      "[-0.1828550100326538]\n",
      "Length: 1\n"
     ]
    }
   ],
   "source": [
    "#de_predicted\n",
    "de_predicted=[]\n",
    "len_pre_win=int(len(data)/prediction_len)\n",
    "len_pre=prediction_len\n",
    "\n",
    "m=0\n",
    "for i in range(0,len_pre_win):\n",
    "    for j in range(0,len_pre):\n",
    "        de_predicted.append(prediction_seqs[i][j][0]*record_max[m]+record_min[m])\n",
    "        m=m+1\n",
    "        \n",
    "        \n",
    "print(de_predicted)\n",
    "print('Length:',len(de_predicted))"
   ]
  },
  {
   "cell_type": "code",
   "execution_count": 1738,
   "id": "73ef699a",
   "metadata": {},
   "outputs": [],
   "source": [
    "#np.save('/file_path.npy',de_predicted)\n",
    "\n",
    "#import pickle\n",
    "#filename = 'finalized_model_ltsm2.sav'\n",
    "#pickle.dump(model, open(filename, 'wb'))"
   ]
  },
  {
   "cell_type": "code",
   "execution_count": 1739,
   "id": "b6ff235d",
   "metadata": {},
   "outputs": [
    {
     "name": "stdout",
     "output_type": "stream",
     "text": [
      "1\n"
     ]
    }
   ],
   "source": [
    "print(len_pre_win)"
   ]
  },
  {
   "cell_type": "code",
   "execution_count": 1740,
   "id": "a15710b6",
   "metadata": {},
   "outputs": [
    {
     "name": "stdout",
     "output_type": "stream",
     "text": [
      "MSE [1.39914597]\n",
      "accuracy [-0.18285501]\n",
      "mean_error_percent [1.18285501]\n"
     ]
    }
   ],
   "source": [
    "error = []\n",
    "diff=y_test.shape[0]-prediction_len*pre_win_num\n",
    "\n",
    "for i in range(y_test_ori.shape[0]-diff):\n",
    "    error.append(y_test_ori[i,] - de_predicted[i])\n",
    "    \n",
    "squaredError = []\n",
    "absError = []\n",
    "for val in error:\n",
    "    squaredError.append(val * val) \n",
    "    absError.append(abs(val))\n",
    "\n",
    "error_percent=[]\n",
    "for i in range(len(error)):\n",
    "    val=absError[i]/y_test_ori[i,]\n",
    "    val=abs(val)\n",
    "    error_percent.append(val)\n",
    "\n",
    "mean_error_percent=sum(error_percent) / len(error_percent)\n",
    "accuracy=1-mean_error_percent\n",
    "\n",
    "MSE=sum(squaredError) / len(squaredError)\n",
    "\n",
    "print(\"MSE\",MSE)\n",
    "print('accuracy',accuracy)\n",
    "print('mean_error_percent',mean_error_percent)"
   ]
  },
  {
   "cell_type": "code",
   "execution_count": null,
   "id": "ad5cbb38",
   "metadata": {},
   "outputs": [],
   "source": []
  },
  {
   "cell_type": "code",
   "execution_count": null,
   "id": "3c4f5738",
   "metadata": {},
   "outputs": [],
   "source": []
  }
 ],
 "metadata": {
  "kernelspec": {
   "display_name": "Python 3 (ipykernel)",
   "language": "python",
   "name": "python3"
  },
  "language_info": {
   "codemirror_mode": {
    "name": "ipython",
    "version": 3
   },
   "file_extension": ".py",
   "mimetype": "text/x-python",
   "name": "python",
   "nbconvert_exporter": "python",
   "pygments_lexer": "ipython3",
   "version": "3.7.11"
  }
 },
 "nbformat": 4,
 "nbformat_minor": 5
}

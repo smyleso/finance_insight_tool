{
 "cells": [
  {
   "cell_type": "code",
   "execution_count": 477,
   "id": "33b74681",
   "metadata": {},
   "outputs": [],
   "source": [
    "# Importing all necessary libraries.\n",
    "import pandas as pd\n",
    "import numpy as np\n",
    "import matplotlib.pyplot as plt"
   ]
  },
  {
   "cell_type": "code",
   "execution_count": 478,
   "id": "00e8e7ee",
   "metadata": {},
   "outputs": [],
   "source": [
    "# Using data from Apple's stock.\n",
    "df = pd.read_csv('/Users/mylesosborn/Desktop/SPX/SPX_Pred_Tools/nasdaq_daily.csv')"
   ]
  },
  {
   "cell_type": "code",
   "execution_count": 479,
   "id": "80fa64ee",
   "metadata": {},
   "outputs": [
    {
     "data": {
      "text/html": [
       "<div>\n",
       "<style scoped>\n",
       "    .dataframe tbody tr th:only-of-type {\n",
       "        vertical-align: middle;\n",
       "    }\n",
       "\n",
       "    .dataframe tbody tr th {\n",
       "        vertical-align: top;\n",
       "    }\n",
       "\n",
       "    .dataframe thead th {\n",
       "        text-align: right;\n",
       "    }\n",
       "</style>\n",
       "<table border=\"1\" class=\"dataframe\">\n",
       "  <thead>\n",
       "    <tr style=\"text-align: right;\">\n",
       "      <th></th>\n",
       "      <th>date</th>\n",
       "      <th>wsj_mean_compound</th>\n",
       "      <th>reuters_mean_compound</th>\n",
       "      <th>cnbc_mean_compound</th>\n",
       "      <th>bloomberg_mean_compound</th>\n",
       "      <th>open</th>\n",
       "      <th>high</th>\n",
       "      <th>low</th>\n",
       "      <th>close</th>\n",
       "      <th>range</th>\n",
       "      <th>best option</th>\n",
       "    </tr>\n",
       "  </thead>\n",
       "  <tbody>\n",
       "    <tr>\n",
       "      <th>201</th>\n",
       "      <td>9/1/22</td>\n",
       "      <td>-0.000770</td>\n",
       "      <td>-0.095450</td>\n",
       "      <td>-0.310500</td>\n",
       "      <td>-0.012102</td>\n",
       "      <td>3936.73</td>\n",
       "      <td>3970.23</td>\n",
       "      <td>3903.65</td>\n",
       "      <td>3966.86</td>\n",
       "      <td>33.50</td>\n",
       "      <td>-1</td>\n",
       "    </tr>\n",
       "    <tr>\n",
       "      <th>202</th>\n",
       "      <td>9/2/22</td>\n",
       "      <td>0.000645</td>\n",
       "      <td>0.415050</td>\n",
       "      <td>-0.183511</td>\n",
       "      <td>-0.228700</td>\n",
       "      <td>3994.66</td>\n",
       "      <td>4018.43</td>\n",
       "      <td>3906.21</td>\n",
       "      <td>3924.27</td>\n",
       "      <td>-88.45</td>\n",
       "      <td>-1</td>\n",
       "    </tr>\n",
       "    <tr>\n",
       "      <th>203</th>\n",
       "      <td>9/6/22</td>\n",
       "      <td>0.340000</td>\n",
       "      <td>-0.044475</td>\n",
       "      <td>0.142687</td>\n",
       "      <td>-0.295300</td>\n",
       "      <td>3930.89</td>\n",
       "      <td>3942.55</td>\n",
       "      <td>3886.75</td>\n",
       "      <td>3908.20</td>\n",
       "      <td>-44.14</td>\n",
       "      <td>-1</td>\n",
       "    </tr>\n",
       "    <tr>\n",
       "      <th>204</th>\n",
       "      <td>9/7/22</td>\n",
       "      <td>0.000711</td>\n",
       "      <td>0.510600</td>\n",
       "      <td>-0.515533</td>\n",
       "      <td>0.125000</td>\n",
       "      <td>3909.43</td>\n",
       "      <td>3987.89</td>\n",
       "      <td>3906.03</td>\n",
       "      <td>3979.88</td>\n",
       "      <td>78.46</td>\n",
       "      <td>1</td>\n",
       "    </tr>\n",
       "    <tr>\n",
       "      <th>205</th>\n",
       "      <td>9/8/22</td>\n",
       "      <td>-0.361200</td>\n",
       "      <td>-0.000479</td>\n",
       "      <td>-0.159100</td>\n",
       "      <td>0.518000</td>\n",
       "      <td>3959.54</td>\n",
       "      <td>4010.50</td>\n",
       "      <td>3944.81</td>\n",
       "      <td>4006.19</td>\n",
       "      <td>50.96</td>\n",
       "      <td>1</td>\n",
       "    </tr>\n",
       "  </tbody>\n",
       "</table>\n",
       "</div>"
      ],
      "text/plain": [
       "       date  wsj_mean_compound  reuters_mean_compound  cnbc_mean_compound  \\\n",
       "201  9/1/22          -0.000770              -0.095450           -0.310500   \n",
       "202  9/2/22           0.000645               0.415050           -0.183511   \n",
       "203  9/6/22           0.340000              -0.044475            0.142687   \n",
       "204  9/7/22           0.000711               0.510600           -0.515533   \n",
       "205  9/8/22          -0.361200              -0.000479           -0.159100   \n",
       "\n",
       "     bloomberg_mean_compound     open     high      low    close  range  \\\n",
       "201                -0.012102  3936.73  3970.23  3903.65  3966.86  33.50   \n",
       "202                -0.228700  3994.66  4018.43  3906.21  3924.27 -88.45   \n",
       "203                -0.295300  3930.89  3942.55  3886.75  3908.20 -44.14   \n",
       "204                 0.125000  3909.43  3987.89  3906.03  3979.88  78.46   \n",
       "205                 0.518000  3959.54  4010.50  3944.81  4006.19  50.96   \n",
       "\n",
       "     best option  \n",
       "201           -1  \n",
       "202           -1  \n",
       "203           -1  \n",
       "204            1  \n",
       "205            1  "
      ]
     },
     "execution_count": 479,
     "metadata": {},
     "output_type": "execute_result"
    }
   ],
   "source": [
    "df.tail()"
   ]
  },
  {
   "cell_type": "code",
   "execution_count": 480,
   "id": "58899211",
   "metadata": {},
   "outputs": [],
   "source": [
    "#df.describe()"
   ]
  },
  {
   "cell_type": "code",
   "execution_count": 481,
   "id": "07d688d5",
   "metadata": {},
   "outputs": [],
   "source": [
    "columns = ['best option', 'wsj_mean_compound','reuters_mean_compound','cnbc_mean_compound','high','low','range','bloomberg_mean_compound','open','close']\n",
    "df2 = pd.DataFrame(df, columns=columns)"
   ]
  },
  {
   "cell_type": "code",
   "execution_count": 482,
   "id": "4ae3c674",
   "metadata": {},
   "outputs": [
    {
     "data": {
      "text/html": [
       "<div>\n",
       "<style scoped>\n",
       "    .dataframe tbody tr th:only-of-type {\n",
       "        vertical-align: middle;\n",
       "    }\n",
       "\n",
       "    .dataframe tbody tr th {\n",
       "        vertical-align: top;\n",
       "    }\n",
       "\n",
       "    .dataframe thead th {\n",
       "        text-align: right;\n",
       "    }\n",
       "</style>\n",
       "<table border=\"1\" class=\"dataframe\">\n",
       "  <thead>\n",
       "    <tr style=\"text-align: right;\">\n",
       "      <th></th>\n",
       "      <th>best option</th>\n",
       "      <th>wsj_mean_compound</th>\n",
       "      <th>reuters_mean_compound</th>\n",
       "      <th>cnbc_mean_compound</th>\n",
       "      <th>high</th>\n",
       "      <th>low</th>\n",
       "      <th>range</th>\n",
       "      <th>bloomberg_mean_compound</th>\n",
       "      <th>open</th>\n",
       "      <th>close</th>\n",
       "    </tr>\n",
       "  </thead>\n",
       "  <tbody>\n",
       "    <tr>\n",
       "      <th>201</th>\n",
       "      <td>-1</td>\n",
       "      <td>-0.000770</td>\n",
       "      <td>-0.095450</td>\n",
       "      <td>-0.310500</td>\n",
       "      <td>3970.23</td>\n",
       "      <td>3903.65</td>\n",
       "      <td>33.50</td>\n",
       "      <td>-0.012102</td>\n",
       "      <td>3936.73</td>\n",
       "      <td>3966.86</td>\n",
       "    </tr>\n",
       "    <tr>\n",
       "      <th>202</th>\n",
       "      <td>-1</td>\n",
       "      <td>0.000645</td>\n",
       "      <td>0.415050</td>\n",
       "      <td>-0.183511</td>\n",
       "      <td>4018.43</td>\n",
       "      <td>3906.21</td>\n",
       "      <td>-88.45</td>\n",
       "      <td>-0.228700</td>\n",
       "      <td>3994.66</td>\n",
       "      <td>3924.27</td>\n",
       "    </tr>\n",
       "    <tr>\n",
       "      <th>203</th>\n",
       "      <td>-1</td>\n",
       "      <td>0.340000</td>\n",
       "      <td>-0.044475</td>\n",
       "      <td>0.142687</td>\n",
       "      <td>3942.55</td>\n",
       "      <td>3886.75</td>\n",
       "      <td>-44.14</td>\n",
       "      <td>-0.295300</td>\n",
       "      <td>3930.89</td>\n",
       "      <td>3908.20</td>\n",
       "    </tr>\n",
       "    <tr>\n",
       "      <th>204</th>\n",
       "      <td>1</td>\n",
       "      <td>0.000711</td>\n",
       "      <td>0.510600</td>\n",
       "      <td>-0.515533</td>\n",
       "      <td>3987.89</td>\n",
       "      <td>3906.03</td>\n",
       "      <td>78.46</td>\n",
       "      <td>0.125000</td>\n",
       "      <td>3909.43</td>\n",
       "      <td>3979.88</td>\n",
       "    </tr>\n",
       "    <tr>\n",
       "      <th>205</th>\n",
       "      <td>1</td>\n",
       "      <td>-0.361200</td>\n",
       "      <td>-0.000479</td>\n",
       "      <td>-0.159100</td>\n",
       "      <td>4010.50</td>\n",
       "      <td>3944.81</td>\n",
       "      <td>50.96</td>\n",
       "      <td>0.518000</td>\n",
       "      <td>3959.54</td>\n",
       "      <td>4006.19</td>\n",
       "    </tr>\n",
       "  </tbody>\n",
       "</table>\n",
       "</div>"
      ],
      "text/plain": [
       "     best option  wsj_mean_compound  reuters_mean_compound  \\\n",
       "201           -1          -0.000770              -0.095450   \n",
       "202           -1           0.000645               0.415050   \n",
       "203           -1           0.340000              -0.044475   \n",
       "204            1           0.000711               0.510600   \n",
       "205            1          -0.361200              -0.000479   \n",
       "\n",
       "     cnbc_mean_compound     high      low  range  bloomberg_mean_compound  \\\n",
       "201           -0.310500  3970.23  3903.65  33.50                -0.012102   \n",
       "202           -0.183511  4018.43  3906.21 -88.45                -0.228700   \n",
       "203            0.142687  3942.55  3886.75 -44.14                -0.295300   \n",
       "204           -0.515533  3987.89  3906.03  78.46                 0.125000   \n",
       "205           -0.159100  4010.50  3944.81  50.96                 0.518000   \n",
       "\n",
       "        open    close  \n",
       "201  3936.73  3966.86  \n",
       "202  3994.66  3924.27  \n",
       "203  3930.89  3908.20  \n",
       "204  3909.43  3979.88  \n",
       "205  3959.54  4006.19  "
      ]
     },
     "execution_count": 482,
     "metadata": {},
     "output_type": "execute_result"
    }
   ],
   "source": [
    "df2.tail()"
   ]
  },
  {
   "cell_type": "code",
   "execution_count": 483,
   "id": "28522192",
   "metadata": {},
   "outputs": [],
   "source": [
    "df2 = pd.DataFrame(df2)     "
   ]
  },
  {
   "cell_type": "code",
   "execution_count": 484,
   "id": "d88d1d71",
   "metadata": {},
   "outputs": [],
   "source": [
    "# Prediction 100 days into the future.\n",
    "future_days = 3\n",
    "df2['Prediction'] = df2['best option'].shift(-future_days)"
   ]
  },
  {
   "cell_type": "code",
   "execution_count": 485,
   "id": "2d09f4b1",
   "metadata": {},
   "outputs": [
    {
     "name": "stderr",
     "output_type": "stream",
     "text": [
      "/Users/mylesosborn/opt/anaconda3/lib/python3.7/site-packages/ipykernel_launcher.py:1: FutureWarning: In a future version of pandas all arguments of DataFrame.drop except for the argument 'labels' will be keyword-only\n",
      "  \"\"\"Entry point for launching an IPython kernel.\n"
     ]
    }
   ],
   "source": [
    "X = np.array(df2.drop(['Prediction'], 1))[:-future_days]\n",
    "#print(X)"
   ]
  },
  {
   "cell_type": "code",
   "execution_count": 486,
   "id": "9f37b0fb",
   "metadata": {},
   "outputs": [],
   "source": [
    "y = np.array(df2['Prediction'])[:-future_days]\n",
    "#print(y)"
   ]
  },
  {
   "cell_type": "markdown",
   "id": "88ce3551",
   "metadata": {},
   "source": [
    "# Random Forest"
   ]
  },
  {
   "cell_type": "code",
   "execution_count": 487,
   "id": "819399ae",
   "metadata": {},
   "outputs": [
    {
     "data": {
      "text/plain": [
       "array([ 1.,  1.,  1.,  1.,  1., -1.,  1., -1., -1., -1., -1., -1., -1.,\n",
       "       -1.,  1., -1., -1.,  1.,  1., -1., -1.,  1., -1.,  1., -1., -1.,\n",
       "       -1.,  1.,  1., -1., -1., -1., -1., -1., -1., -1.,  1.,  1.,  1.,\n",
       "       -1.,  1.])"
      ]
     },
     "execution_count": 487,
     "metadata": {},
     "output_type": "execute_result"
    }
   ],
   "source": [
    "from sklearn.model_selection import train_test_split\n",
    "from sklearn.metrics import accuracy_score\n",
    "from sklearn.ensemble import RandomForestClassifier\n",
    "from sklearn.datasets import make_classification\n",
    "import pickle\n",
    "\n",
    "x_train, x_test, y_train, y_test = train_test_split(X, y, test_size = 0.2)\n",
    "y_test"
   ]
  },
  {
   "cell_type": "code",
   "execution_count": 488,
   "id": "b8cb2c43",
   "metadata": {},
   "outputs": [],
   "source": [
    "# Implementing Linear and Decision Tree Regression Algorithms.\n",
    "filename = 'finalized_model_rf_nasdaq.sav'\n",
    "rf = pickle.load(open(filename, 'rb'))"
   ]
  },
  {
   "cell_type": "code",
   "execution_count": 489,
   "id": "5144d6a4",
   "metadata": {},
   "outputs": [
    {
     "name": "stdout",
     "output_type": "stream",
     "text": [
      "Random Forest prediction : [ 1. -1.  1.  1.  1. -1.  1. -1. -1. -1. -1. -1. -1. -1.  1. -1.  1.  1.\n",
      "  1. -1. -1.  1. -1. -1.  1. -1. -1.  1.  1. -1.  1. -1. -1. -1. -1. -1.\n",
      "  1.  1. -1. -1.  1.]\n"
     ]
    }
   ],
   "source": [
    "rf_prediction = rf.predict(x_test)\n",
    "print('Random Forest prediction :',rf_prediction)"
   ]
  },
  {
   "cell_type": "code",
   "execution_count": 490,
   "id": "cc4fe5d6",
   "metadata": {},
   "outputs": [
    {
     "data": {
      "text/plain": [
       "array([-1., -1.,  1.])"
      ]
     },
     "execution_count": 490,
     "metadata": {},
     "output_type": "execute_result"
    }
   ],
   "source": [
    "predictions = rf_prediction[-future_days:]\n",
    "predictions"
   ]
  },
  {
   "cell_type": "code",
   "execution_count": 491,
   "id": "558dbb76",
   "metadata": {},
   "outputs": [
    {
     "name": "stderr",
     "output_type": "stream",
     "text": [
      "/Users/mylesosborn/opt/anaconda3/lib/python3.7/site-packages/ipykernel_launcher.py:1: FutureWarning: In a future version of pandas all arguments of DataFrame.drop except for the argument 'labels' will be keyword-only\n",
      "  \"\"\"Entry point for launching an IPython kernel.\n"
     ]
    }
   ],
   "source": [
    "x_future = df2.drop(['Prediction'], 1)[:-future_days]\n",
    "x_future = x_future.tail(future_days)\n",
    "x_future = np.array(x_future)"
   ]
  },
  {
   "cell_type": "code",
   "execution_count": 492,
   "id": "e01d7d20",
   "metadata": {},
   "outputs": [
    {
     "name": "stdout",
     "output_type": "stream",
     "text": [
      "Random Forest prediction : [1. 1. 1.]\n"
     ]
    }
   ],
   "source": [
    "rf_prediction2 = rf.predict(x_future)\n",
    "print('Random Forest prediction :',rf_prediction2)"
   ]
  },
  {
   "cell_type": "code",
   "execution_count": 493,
   "id": "6777403c",
   "metadata": {},
   "outputs": [
    {
     "data": {
      "text/plain": [
       "0.8536585365853658"
      ]
     },
     "execution_count": 493,
     "metadata": {},
     "output_type": "execute_result"
    }
   ],
   "source": [
    "ac = accuracy_score(rf_prediction, y_test)\n",
    "ac"
   ]
  },
  {
   "cell_type": "code",
   "execution_count": null,
   "id": "35051f42",
   "metadata": {},
   "outputs": [],
   "source": []
  },
  {
   "cell_type": "code",
   "execution_count": null,
   "id": "3a53a3f2",
   "metadata": {},
   "outputs": [],
   "source": []
  },
  {
   "cell_type": "code",
   "execution_count": null,
   "id": "621f27fb",
   "metadata": {},
   "outputs": [],
   "source": []
  },
  {
   "cell_type": "code",
   "execution_count": null,
   "id": "28406f4a",
   "metadata": {},
   "outputs": [],
   "source": []
  },
  {
   "cell_type": "code",
   "execution_count": null,
   "id": "0642c83b",
   "metadata": {},
   "outputs": [],
   "source": []
  },
  {
   "cell_type": "code",
   "execution_count": null,
   "id": "18771478",
   "metadata": {},
   "outputs": [],
   "source": []
  },
  {
   "cell_type": "code",
   "execution_count": null,
   "id": "8179769d",
   "metadata": {},
   "outputs": [],
   "source": []
  },
  {
   "cell_type": "code",
   "execution_count": null,
   "id": "2359f593",
   "metadata": {},
   "outputs": [],
   "source": []
  }
 ],
 "metadata": {
  "kernelspec": {
   "display_name": "Python 3 (ipykernel)",
   "language": "python",
   "name": "python3"
  },
  "language_info": {
   "codemirror_mode": {
    "name": "ipython",
    "version": 3
   },
   "file_extension": ".py",
   "mimetype": "text/x-python",
   "name": "python",
   "nbconvert_exporter": "python",
   "pygments_lexer": "ipython3",
   "version": "3.7.11"
  }
 },
 "nbformat": 4,
 "nbformat_minor": 5
}
